{
 "cells": [
  {
   "cell_type": "markdown",
   "metadata": {},
   "source": [
    "### Tests"
   ]
  },
  {
   "cell_type": "code",
   "execution_count": 3,
   "metadata": {},
   "outputs": [
    {
     "name": "stdout",
     "output_type": "stream",
     "text": [
      "                     1. open  2. high    3. low  4. close  5. volume\n",
      "date                                                                \n",
      "2021-03-19 20:00:00   120.02   120.02  119.9901    120.02     3479.0\n",
      "2021-03-19 19:59:00   120.05   120.05  120.0000    120.02     3014.0\n",
      "2021-03-19 19:58:00   119.98   120.04  119.9800    120.04     4125.0\n",
      "2021-03-19 19:57:00   119.96   120.00  119.9600    120.00     5186.0\n",
      "2021-03-19 19:56:00   119.95   119.97  119.9500    119.96     3798.0\n",
      "...                      ...      ...       ...       ...        ...\n",
      "2021-03-08 04:05:00   118.86   118.95  118.8600    118.95     2112.0\n",
      "2021-03-08 04:04:00   118.94   118.94  118.8500    118.90     3271.0\n",
      "2021-03-08 04:03:00   118.80   119.00  118.8000    118.90     3661.0\n",
      "2021-03-08 04:02:00   119.00   119.00  118.8000    118.89     4531.0\n",
      "2021-03-08 04:01:00   119.24   119.90  119.0000    119.00     8600.0\n",
      "\n",
      "[8917 rows x 5 columns]\n"
     ]
    },
    {
     "data": {
      "image/png": "[encoded data removed]",
      "text/plain": [
       "<Figure size 432x288 with 1 Axes>"
      ]
     },
     "metadata": {
      "needs_background": "light"
     },
     "output_type": "display_data"
    }
   ],
   "source": [
    "# API code E3YVKWX4MG1AN2OA\n",
    "# Test\n",
    "from alpha_vantage.timeseries import TimeSeries\n",
    "import pandas\n",
    "import matplotlib.pyplot as plt\n",
    "import csv\n",
    "# import sys\n",
    "# print(sys.path)\n",
    "ts = TimeSeries(key='E3YVKWX4MG1AN2OA',output_format='pandas')\n",
    "data, meta_data = ts.get_intraday(symbol='AAPL',interval='1min', outputsize='full')\n",
    "print(data)\n",
    "data.plot()\n",
    "plt.title('Intraday Times Series for the MSFT stock (1 min)')\n",
    "plt.show()"
   ]
  },
  {
   "cell_type": "markdown",
   "metadata": {},
   "source": [
    "### For fund data "
   ]
  },
  {
   "cell_type": "code",
   "execution_count": 4,
   "metadata": {},
   "outputs": [
    {
     "ename": "IndentationError",
     "evalue": "expected an indented block (<ipython-input-4-9cf56cba2937>, line 63)",
     "output_type": "error",
     "traceback": [
      "\u001b[1;36m  File \u001b[1;32m\"<ipython-input-4-9cf56cba2937>\"\u001b[1;36m, line \u001b[1;32m63\u001b[0m\n\u001b[1;33m    # getEarnings()\u001b[0m\n\u001b[1;37m                   ^\u001b[0m\n\u001b[1;31mIndentationError\u001b[0m\u001b[1;31m:\u001b[0m expected an indented block\n"
     ]
    }
   ],
   "source": [
    "from alpha_vantage.fundamentaldata import FundamentalData as FD\n",
    "import pandas as pd\n",
    "import csv\n",
    "import os\n",
    "import requests\n",
    "import urllib\n",
    "import json\n",
    "\n",
    "comp_dict ={\"facebook\":'FB',\n",
    "            \"apple\":'AAPL',\n",
    "            \"amazon\":'AMZN',\n",
    "            \"netflix\":'NFLX',\n",
    "            \"google\":'GOOG'}\n",
    "\n",
    "def getAnnualCashFlow():\n",
    "    for name, symb in comp_dict.items():\n",
    "        fd = FD(key='E3YVKWX4MG1AN2OA',output_format='pandas')\n",
    "        data, meta_data = fd.get_cash_flow_annual(symbol=symb)\n",
    "        data.to_csv(name+\"_annual_cash flow.csv\")\n",
    "        \n",
    "def getQuarterlyCashFlow():\n",
    "    for name, symb in comp_dict.items():\n",
    "        fd = FD(key='E3YVKWX4MG1AN2OA',output_format='pandas')\n",
    "        data, meta_data = fd.get_cash_flow_quarterly(symbol=symb)\n",
    "        data.to_csv(name+\"_quarterly_cash flow.csv\")\n",
    "\n",
    "def getEarnings():\n",
    "    api_key = os.getenv('E3YVKWX4MG1AN2OA')\n",
    "    base_url = 'https://www.alphavantage.co/query?'\n",
    "    for name, symb in comp_dict.items():\n",
    "        params = {'function': 'CASH_FLOW',\n",
    "                 'symbol' : symb,\n",
    "\t\t         'apikey': \"E3YVKWX4MG1AN2OA\"}\n",
    "        resp_data = requests.get(base_url, params=params)\n",
    "#         print(type(resp_data.json()))\n",
    "        data_dict = resp_data.json()\n",
    "        filename = name+\"_Earnings\"\n",
    "        with open(filename+\".json\",'w') as f:\n",
    "            json.dump(data_dict, f) #everything from the json file\n",
    "\n",
    "### tbc convert the json file into csv containing data from annual to quarterly ###            \n",
    "\n",
    "#         a_data = data_dict.get(\"annualReports\")\n",
    "#         print(a_data)\n",
    "#         annual_data = a_data[0]\n",
    "# #         print(annual_data)\n",
    "#         with open(filename+'_annual_.csv', 'w') as filea:  # You will need 'wb' mode in Python 2.x\n",
    "#             w = csv.DictWriter(filea, annual_data.keys())\n",
    "#             w.writeheader()\n",
    "#             w.writerow(annual_data)\n",
    "            \n",
    "#         q_data = data_dict.get(\"quarterlyReports\")\n",
    "#         quarterly_data = q_data[0]\n",
    "#         with open(filename+'_quarterly_.csv', 'w') as fileq:  # You will need 'wb' mode in Python 2.x\n",
    "#             w = csv.DictWriter(fileq, quarterly_data.keys())\n",
    "#             w.writeheader()\n",
    "#             w.writerow(annual_data)\n",
    "\n",
    "\n",
    "def main():\n",
    "    # getAnnualCashFlow()\n",
    "    # getQuarterlyCashFlow()\n",
    "    # getEarnings()\n"
   ]
  },
  {
   "cell_type": "markdown",
   "metadata": {},
   "source": [
    "### For CCL\n",
    "\n",
    "data for price and company news\n",
    "from 23rd March 2020 - 17th March 2021"
   ]
  },
  {
   "cell_type": "code",
   "execution_count": 5,
   "metadata": {
    "scrolled": true
   },
   "outputs": [
    {
     "name": "stdout",
     "output_type": "stream",
     "text": [
      "(                     1. open  2. high  3. low  4. close  5. volume\n",
      "date                                                              \n",
      "2021-03-19 20:00:00  29.0001    29.02   28.98     29.02     3819.0\n",
      "2021-03-19 19:55:00  29.0000    29.03   29.00     29.01     3555.0\n",
      "2021-03-19 19:50:00  28.9800    28.99   28.98     28.98     4864.0\n",
      "2021-03-19 19:45:00  28.9900    28.99   28.98     28.98     2430.0\n",
      "2021-03-19 19:40:00  28.9800    28.99   28.98     28.98     8034.0\n",
      "...                      ...      ...     ...       ...        ...\n",
      "2021-02-22 04:25:00  24.7600    24.76   24.72     24.75     1635.0\n",
      "2021-02-22 04:20:00  24.7700    24.78   24.63     24.75    13841.0\n",
      "2021-02-22 04:15:00  24.6300    24.77   24.60     24.77    15070.0\n",
      "2021-02-22 04:10:00  24.5500    24.62   24.53     24.60     7753.0\n",
      "2021-02-22 04:05:00  24.7000    24.70   24.50     24.55    31326.0\n",
      "\n",
      "[3812 rows x 5 columns], {'1. Information': 'Intraday (5min) open, high, low, close prices and volume', '2. Symbol': 'CCL', '3. Last Refreshed': '2021-03-19 20:00:00', '4. Interval': '5min', '5. Output Size': 'Full size', '6. Time Zone': 'US/Eastern'})\n"
     ]
    }
   ],
   "source": [
    "from alpha_vantage.fundamentaldata import FundamentalData as FD\n",
    "import pandas as pd\n",
    "import csv\n",
    "import os\n",
    "import requests\n",
    "import urllib\n",
    "import json\n",
    "ts = TimeSeries(key='E3YVKWX4MG1AN2OA',output_format='pandas')\n",
    "comp = \"CCL\"\n",
    "data = ts.get_intraday(\"CCL\", interval = \"5min\", outputsize = \"full\")\n",
    "print(data)"
   ]
  },
  {
   "cell_type": "markdown",
   "metadata": {},
   "source": [
    "### For CCL\n",
    "\n",
    "data for price and company news\n",
    "from 23rd March 2020 - 17th March 2021"
   ]
  },
  {
   "cell_type": "markdown",
   "metadata": {},
   "source": [
    "Data price"
   ]
  },
  {
   "cell_type": "code",
   "execution_count": 227,
   "metadata": {
    "scrolled": true
   },
   "outputs": [
    {
     "name": "stdout",
     "output_type": "stream",
     "text": [
      "                     time   open   high    low  close volume\n",
      "0     2021-03-17 20:00:00  28.94  29.05  28.94  29.05  42160\n",
      "1     2021-03-17 19:30:00  28.94  28.96  28.92  28.95   9439\n",
      "2     2021-03-17 19:00:00  28.93  28.95  28.93  28.94   8322\n",
      "3     2021-03-17 18:30:00  28.91  28.95   28.9  28.92  14844\n",
      "4     2021-03-17 18:00:00   28.9  28.93   28.9  28.91  12417\n",
      "...                   ...    ...    ...    ...    ...    ...\n",
      "6910  2020-03-23 06:30:00  10.76  10.86  10.48  10.52  47779\n",
      "6911  2020-03-23 06:00:00  10.82  10.92  10.75  10.75  13063\n",
      "6912  2020-03-23 05:30:00  10.84  10.99  10.76  10.76  26535\n",
      "6913  2020-03-23 05:00:00  11.09  11.24  10.79  10.86  18319\n",
      "6914  2020-03-23 04:30:00   11.8   11.8   10.6  11.09  29621\n",
      "\n",
      "[6915 rows x 6 columns]\n"
     ]
    }
   ],
   "source": [
    "import pickle\n",
    "\n",
    "def get_CCL_intraday(num):\n",
    "    api_key = os.getenv('E3YVKWX4MG1AN2OA')\n",
    "    base_url = 'https://www.alphavantage.co/query?'\n",
    "    col = ['time', 'open', 'high', 'low', 'close', 'volume']\n",
    "    datalist = []\n",
    "    thedata = []\n",
    "    if num == 1:\n",
    "        for i in range(1,6): #,  #year2month1       \n",
    "            params = {'function': 'TIME_SERIES_INTRADAY_EXTENDED',\n",
    "                             'symbol' : \"CCL\",\n",
    "                             'interval': \"30min\",\n",
    "                              'slice': \"year1month{}\".format(i),\n",
    "                             'apikey': \"E3YVKWX4MG1AN2OA\"}\n",
    "            resp_data = requests.get(base_url, params=params)\n",
    "            data = resp_data.content.decode()\n",
    "            handy_data = data.splitlines()\n",
    "            if i == 1:\n",
    "                thedata += [k.split(\",\") for k in handy_data[65:]]\n",
    "            thedata += [k.split(\",\") for k in handy_data[1:]]\n",
    "    elif num == 2:\n",
    "        for i in range(6, 10):\n",
    "            params = {'function': 'TIME_SERIES_INTRADAY_EXTENDED',\n",
    "                             'symbol' : \"CCL\",\n",
    "                             'interval': \"30min\",\n",
    "                              'slice': \"year1month{}\".format(i),\n",
    "                             'apikey': \"E3YVKWX4MG1AN2OA\"}\n",
    "            resp_data = requests.get(base_url, params=params)\n",
    "            data = resp_data.content.decode()\n",
    "            handy_data = data.splitlines()\n",
    "            thedata += [k.split(\",\") for k in handy_data[1:]]\n",
    "    elif num == 3:\n",
    "        for i in range(10,13):\n",
    "            params = {'function': 'TIME_SERIES_INTRADAY_EXTENDED',\n",
    "                                 'symbol' : \"CCL\",\n",
    "                                 'interval': \"30min\",\n",
    "                                  'slice': \"year1month{}\".format(i),\n",
    "                                 'apikey': \"E3YVKWX4MG1AN2OA\"}\n",
    "            resp_data = requests.get(base_url, params=params)\n",
    "            data = resp_data.content.decode()\n",
    "            handy_data = data.splitlines()\n",
    "            thedata += [k.split(\",\") for k in handy_data[1:96]]\n",
    "        params = {'function': 'TIME_SERIES_INTRADAY_EXTENDED',\n",
    "                                 'symbol' : \"CCL\",\n",
    "                                 'interval': \"30min\",\n",
    "                                  'slice': \"year2month1\",\n",
    "                                 'apikey': \"E3YVKWX4MG1AN2OA\"}\n",
    "        resp_data = requests.get(base_url, params=params)\n",
    "        data = resp_data.content.decode()\n",
    "        handy_data = data.splitlines()\n",
    "        thedata += [k.split(\",\") for k in handy_data[1:97]]\n",
    "        \n",
    "    df = pd.DataFrame(thedata, columns = col)\n",
    "#     print(df)\n",
    "    file_to_write = open(\"CCLdata{}.pkl\".format(num), \"wb\")\n",
    "    pickle.dump(df, file_to_write)\n",
    "#     df.to_pickle(\"CCLdata1.pkl\")\n",
    "\n",
    "# ext_data = ts.get_intraday_extended(\"CCL\", \"30days\", \"year1month1\")\n",
    "# print(ext_data)\n",
    "\n",
    "    \n",
    "def openfile(num):\n",
    "    f = open(\"CCLdata{}.pkl\".format(num), \"rb\") \n",
    "    data = pickle.load(f)\n",
    "    print(data)\n",
    "    \n",
    "    \n",
    "def adding(num):\n",
    "    get_CCL_intraday(num)\n",
    "    openfile(num)\n",
    "    \n",
    "def mergefile():\n",
    "    f1 = pickle.load(open(\"CCLdata1.pkl\", \"rb\"))\n",
    "    f2 = pickle.load(open(\"CCLdata2.pkl\", \"rb\"))\n",
    "    f3 = pickle.load(open(\"CCLdata3.pkl\", \"rb\"))\n",
    "    dfmerged = pd.concat([f1,f2], axis = 0, ignore_index=True)\n",
    "#     print(dfmerged)\n",
    "    merged_df = pd.concat([dfmerged, f3], axis = 0, ignore_index=True)\n",
    "    \n",
    "#     print(merged_df.tail(400))\n",
    "    file_to_write = open(\"CCLdata.pkl\", \"wb\")\n",
    "    pickle.dump(merged_df, file_to_write)\n",
    "def main():\n",
    "#     adding(1)\n",
    "#     adding(2)\n",
    "#     adding(3)\n",
    "#     openfile(1)\n",
    "#     openfile(2)\n",
    "#     openfile(3)\n",
    "#     adding(3)\n",
    "    mergefile()\n",
    "    f = open(\"CCLdata.pkl\", \"rb\") \n",
    "    data = pickle.load(f)\n",
    "    print(data)\n",
    "main()"
   ]
  },
  {
   "cell_type": "markdown",
   "metadata": {},
   "source": [
    "### Finnhub for company news"
   ]
  },
  {
   "cell_type": "code",
   "execution_count": 245,
   "metadata": {},
   "outputs": [
    {
     "name": "stdout",
     "output_type": "stream",
     "text": [
      "    category    datetime                                           headline  \\\n",
      "0    company  1616001953  The Market May Or May Not Crash But Even If It...   \n",
      "1    company  1615998660  Apple Inc. stock falls Wednesday, underperform...   \n",
      "2    company  1615979311  A Few Lessons From The Past 12 Months - Februa...   \n",
      "3    company  1615978816  Defiance ETFs: A Revolution In Thematic ETF In...   \n",
      "4    company  1615977900  Walgreens Boots, Apple Inc. share losses contr...   \n",
      "..       ...         ...                                                ...   \n",
      "495  company  1612949940  After Getting A Lyft, Market Awaits Uber Earni...   \n",
      "496  company  1612946040  Chinese Liquor Giant Moutai Hits Heady $500 Bi...   \n",
      "497  company  1612943700  Sell Amazon as Jeff Bezos Steps Down? 4 Reason...   \n",
      "498  company  1612941707            Wall Street Breakfast: Amazon vs. Union   \n",
      "499  company  1612929420  Apple Developing Ultra Advanced Displays With ...   \n",
      "\n",
      "           id                                              image related  \\\n",
      "0    64718296  https://static.seekingalpha.com/uploads/2021/3...    AAPL   \n",
      "1    64718220           https://images.mktw.net/im-213861/social    AAPL   \n",
      "2    64705531  https://static.seekingalpha.com/uploads/2021/3...    AAPL   \n",
      "3    64705489  https://media.gettyimages.com/vectors/set-of-v...    AAPL   \n",
      "4    64705754  https://mw3.wsj.net/mw5/content/logos/mw_logo_...    AAPL   \n",
      "..        ...                                                ...     ...   \n",
      "495  63473959  https://cdn.benzinga.com/files/imagecache/og_i...    AAPL   \n",
      "496  63469220            https://images.wsj.net/im-297330/social    AAPL   \n",
      "497  63483428  https://www.nasdaq.com/sites/acquia.prod/files...    AAPL   \n",
      "498  63467701  https://static3.seekingalpha.com/assets/og_ima...    AAPL   \n",
      "499  63473969  https://cdn.benzinga.com/files/imagecache/og_i...    AAPL   \n",
      "\n",
      "               source                                            summary  \\\n",
      "0    seekingalpha.com  Are we about to crash from a bubble? Darned if...   \n",
      "1         MarketWatch  Shares of Apple Inc. dropped 0.65% to $124.76 ...   \n",
      "2    seekingalpha.com  In September 2017, I received slightly over $1...   \n",
      "3    seekingalpha.com  The rise in thematic ETFs in 2020 was remarkab...   \n",
      "4         MarketWatch  Behind declines for shares of Walgreens Boots ...   \n",
      "..                ...                                                ...   \n",
      "495          Benzinga  We’re almost a month into earnings season and ...   \n",
      "496          DowJones  Kweichow Moutai is now roughly as important to...   \n",
      "497            Nasdaq  Despite posting blowout earnings last week, Am...   \n",
      "498  seekingalpha.com  Listen on the go! A daily podcast of Wall Stre...   \n",
      "499          Benzinga  Apple Inc (NASDAQ: AAPL) and Taiwan Semiconduc...   \n",
      "\n",
      "                                                   url  \n",
      "0    https://finnhub.io/api/news?id=df2fabcf55ab4e9...  \n",
      "1    https://finnhub.io/api/news?id=f30d7d0cdba29b5...  \n",
      "2    https://finnhub.io/api/news?id=4958cb5e1fae742...  \n",
      "3    https://finnhub.io/api/news?id=804e78cad62c8d2...  \n",
      "4    https://finnhub.io/api/news?id=3b730edd20e921f...  \n",
      "..                                                 ...  \n",
      "495  https://finnhub.io/api/news?id=fd1a769e969b853...  \n",
      "496  https://finnhub.io/api/news?id=928b9fc716edcf2...  \n",
      "497  https://finnhub.io/api/news?id=59c3f48e08932d8...  \n",
      "498  https://finnhub.io/api/news?id=f15213c9fd3bbfa...  \n",
      "499  https://finnhub.io/api/news?id=551dd8c88534d9d...  \n",
      "\n",
      "[500 rows x 9 columns]\n"
     ]
    }
   ],
   "source": [
    "api_key = \"c1bq2ov48v6sp0s52llg\"\n",
    "\n",
    "resp = requests.get(\"https://finnhub.io/api/v1/company-news?symbol=AAPL&from=2020-03-23&to=2021-03-17&token=c1bq2ov48v6sp0s52llg\")\n",
    "stuff = resp.json()\n",
    "df = pd.json_normalize(stuff)\n",
    "# print(df)\n",
    "# print(pd.read_json(stuff))\n",
    "file = open(\"CCL_comp_news.pkl\", \"wb\")\n",
    "pickle.dump(df, file)\n",
    "f = open(\"CCL_comp_news.pkl\", \"rb\") \n",
    "data = pickle.load(f)\n",
    "print(data)"
   ]
  },
  {
   "cell_type": "code",
   "execution_count": null,
   "metadata": {},
   "outputs": [],
   "source": []
  }
 ],
 "metadata": {
  "kernelspec": {
   "display_name": "Python 3",
   "language": "python",
   "name": "python3"
  },
  "language_info": {
   "codemirror_mode": {
    "name": "ipython",
    "version": 3
   },
   "file_extension": ".py",
   "mimetype": "text/x-python",
   "name": "python",
   "nbconvert_exporter": "python",
   "pygments_lexer": "ipython3",
   "version": "3.9.2"
  }
 },
 "nbformat": 4,
 "nbformat_minor": 4
}
